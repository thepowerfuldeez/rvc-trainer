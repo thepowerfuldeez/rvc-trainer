{
 "cells": [
  {
   "cell_type": "code",
   "execution_count": 1,
   "id": "28a9334e-7c65-4944-acdf-fcbd4d5e190a",
   "metadata": {},
   "outputs": [],
   "source": [
    "import zipfile\n",
    "from pathlib import Path\n",
    "in_dir = Path(\"/home/george/datasets/singing_voice/mixing_secrets_library/raw/\")"
   ]
  },
  {
   "cell_type": "code",
   "execution_count": 2,
   "id": "5e3ba266-48fc-45c6-8c96-8fede2479b45",
   "metadata": {},
   "outputs": [],
   "source": [
    "files = list(in_dir.glob(\"**/*.zip\"))"
   ]
  },
  {
   "cell_type": "code",
   "execution_count": 3,
   "id": "9c0361d2-8411-48ca-859d-c1e3c38060fd",
   "metadata": {},
   "outputs": [
    {
     "data": {
      "text/plain": [
       "587"
      ]
     },
     "execution_count": 3,
     "metadata": {},
     "output_type": "execute_result"
    }
   ],
   "source": [
    "len(files)"
   ]
  },
  {
   "cell_type": "code",
   "execution_count": 4,
   "id": "042b5bef-1231-4698-a468-3ae88468d649",
   "metadata": {},
   "outputs": [],
   "source": [
    "import json\n",
    "import shutil"
   ]
  },
  {
   "cell_type": "code",
   "execution_count": 5,
   "id": "324a8fd0-ae55-4aaa-b971-5f8b7c0293cc",
   "metadata": {},
   "outputs": [],
   "source": [
    "# a = json.loads(Path(\"a.json\").read_text())"
   ]
  },
  {
   "cell_type": "code",
   "execution_count": 6,
   "id": "46c8675f-e728-420f-b8fc-e5fd98de0a62",
   "metadata": {},
   "outputs": [],
   "source": [
    "# new_dir = Path(\"/home/george/datasets/singing_voice/DSD100/vocals_separated_filtered/\")\n",
    "# new_dir.mkdir(exist_ok=True)"
   ]
  },
  {
   "cell_type": "code",
   "execution_count": 7,
   "id": "3fa9c4e1-4a6a-4458-b5de-851197543c26",
   "metadata": {},
   "outputs": [],
   "source": [
    "# for f in a:\n",
    "#     shutil.copy(Path(\"/home/george/datasets/singing_voice/DSD100/vocals_separated/\") / f, new_dir / f)"
   ]
  },
  {
   "cell_type": "code",
   "execution_count": null,
   "id": "834a861e-2d95-433f-b905-c782c341ba15",
   "metadata": {},
   "outputs": [],
   "source": []
  },
  {
   "cell_type": "code",
   "execution_count": 5,
   "id": "f584c63e-f26d-4ca6-ae7a-64c74ae0bb97",
   "metadata": {},
   "outputs": [],
   "source": [
    "out_dir = Path(\"/home/george/datasets/singing_voice/mixing_secrets_library/vocals/\")"
   ]
  },
  {
   "cell_type": "code",
   "execution_count": null,
   "id": "a9da41a8-edea-494d-835d-2dde69f81362",
   "metadata": {},
   "outputs": [],
   "source": [
    "for fp in files:\n",
    "    try:\n",
    "        zip = zipfile.ZipFile(fp)\n",
    "        found = False\n",
    "        for it in zip.filelist:\n",
    "            n = it.filename.lower()\n",
    "            if n.startswith(\".\") or n.startswith(\"_\") or \".wav\" not in n or \"reapeaks\" in n:\n",
    "                continue\n",
    "            artist = Path(n).parent.name.lower()\n",
    "            if artist.endswith(\"_full\"):\n",
    "                artist = artist[:-len(\"_full\")]\n",
    "\n",
    "            parts = artist.split(\"_\")\n",
    "            if len(parts) != 2:\n",
    "                parts = artist.split(\" - \")\n",
    "                if len(parts) != 2:\n",
    "                    continue\n",
    "            artist_name, track_name = parts\n",
    "            artist_name = artist_name.split(\". \", maxsplit=1)[-1]\n",
    "            artist_name = artist_name.replace(\" \", \"_\")\n",
    "            track_name = track_name.replace(\" \", \"_\")\n",
    "            \n",
    "            n = Path(n).stem\n",
    "            if \"leadvox\" in n or \"vox_dry\" in n or (\"vox\" in n and \"back\" not in n) or \n",
    "            (\"vocal\" in n and \"back\" not in n) or (\"lead\" in n and \"synth\" not in n):\n",
    "                if \"sfx\" not in n and \"dt\" not in n:\n",
    "                    (out_dir / artist_name / track_name).mkdir(exist_ok=True, parents=True)\n",
    "                    zip.extract(it.filename, path=out_dir / artist_name / track_name / f\"{n}.wav\")\n",
    "                    print(artist_name, track_name)\n",
    "    except zipfile.BadZipFile:\n",
    "        pass"
   ]
  },
  {
   "cell_type": "code",
   "execution_count": null,
   "id": "d441b847-012c-4702-9377-b42ddcfc1bb1",
   "metadata": {},
   "outputs": [],
   "source": []
  },
  {
   "cell_type": "code",
   "execution_count": 6,
   "id": "02cf1e13-4541-4b18-9a8a-78fc73714f13",
   "metadata": {},
   "outputs": [
    {
     "data": {
      "text/plain": [
       "2222"
      ]
     },
     "execution_count": 6,
     "metadata": {},
     "output_type": "execute_result"
    }
   ],
   "source": [
    "len(list(out_dir.glob(\"**/*.wav\")))"
   ]
  },
  {
   "cell_type": "code",
   "execution_count": 7,
   "id": "ca6ebd56-8785-446e-9b29-5bf4632263b6",
   "metadata": {},
   "outputs": [
    {
     "data": {
      "text/plain": [
       "284"
      ]
     },
     "execution_count": 7,
     "metadata": {},
     "output_type": "execute_result"
    }
   ],
   "source": [
    "len(list(out_dir.glob(\"*\")))"
   ]
  },
  {
   "cell_type": "code",
   "execution_count": 8,
   "id": "766935c9-14fe-4800-9db5-fb5865e6e868",
   "metadata": {},
   "outputs": [],
   "source": [
    "from IPython.display import Audio, display\n",
    "import soundfile as sf\n",
    "import io\n",
    "import numpy as np"
   ]
  },
  {
   "cell_type": "code",
   "execution_count": null,
   "id": "4d2dc963-f4a0-4179-a92a-16ea23b7b7d8",
   "metadata": {},
   "outputs": [],
   "source": [
    "for spk_f in sorted(out_dir.glob(\"*\"), key=lambda x: x.stem):\n",
    "    print(spk_f.name, \"-----------------\")\n",
    "    for aud_f in spk_f.glob(\"**/*.wav\"):\n",
    "        if aud_f.is_file():\n",
    "            wav, sr = sf.read(aud_f)\n",
    "            ratio = (np.abs(wav) > 0.01).nonzero()[0].shape[0] / wav.shape[0]\n",
    "            # file = io.BytesIO()\n",
    "            if ratio > 0.25:\n",
    "                out_path = processed_out_dir / aud_f.parent.parent.relative_to(\"/home/george/datasets/singing_voice/mixing_secrets_library/vocals/\")\n",
    "                out_path.parent.mkdir(exist_ok=True, parents=True)\n",
    "                shutil.copy(aud_f, out_path)\n",
    "                # sf.write(file, wav, sr, format='MP3')\n",
    "                # display(Audio(data=file.getvalue(), rate=sr))"
   ]
  },
  {
   "cell_type": "code",
   "execution_count": null,
   "id": "144c69e6-bc6f-446a-9799-b189a9109db2",
   "metadata": {},
   "outputs": [],
   "source": [
    "aud_f.parent.parent.relative_to(\"/home/george/datasets/singing_voice/mixing_secrets_library/vocals/\")"
   ]
  },
  {
   "cell_type": "code",
   "execution_count": 9,
   "id": "7dbb1b74-426d-4213-b61a-676474f0dd93",
   "metadata": {},
   "outputs": [],
   "source": [
    "processed_out_dir = Path(\"/home/george/datasets/singing_voice/mixing_secrets_library/vocals_filtered/\")\n",
    "processed_out_dir.mkdir(exist_ok=True)"
   ]
  },
  {
   "cell_type": "code",
   "execution_count": null,
   "id": "411b02ca-fe70-4ef1-bf23-aea9d8bc743d",
   "metadata": {},
   "outputs": [],
   "source": []
  },
  {
   "cell_type": "code",
   "execution_count": 12,
   "id": "8abc031d-9848-48d4-9bd9-8e1cab042a9e",
   "metadata": {
    "scrolled": true
   },
   "outputs": [],
   "source": [
    "s = 0\n",
    "for aud_f in processed_out_dir.glob(\"**/*.wav\"):\n",
    "    wav, sr = sf.read(aud_f)\n",
    "    s += (len(wav) / sr)\n",
    "    # file = io.BytesIO()\n",
    "    # sf.write(file, wav, sr, format='MP3')\n",
    "    # display(Audio(data=file.getvalue(), rate=sr))"
   ]
  },
  {
   "cell_type": "code",
   "execution_count": 13,
   "id": "7eef45f3-41d4-4133-8ea9-2cf0a98c3ae3",
   "metadata": {},
   "outputs": [
    {
     "data": {
      "text/plain": [
       "24.84373568853932"
      ]
     },
     "execution_count": 13,
     "metadata": {},
     "output_type": "execute_result"
    }
   ],
   "source": [
    "s / 3600"
   ]
  },
  {
   "cell_type": "code",
   "execution_count": null,
   "id": "3c53a99d-65bb-466d-9ce4-701850ec9fae",
   "metadata": {},
   "outputs": [],
   "source": []
  },
  {
   "cell_type": "code",
   "execution_count": null,
   "id": "3a0ece2a-b1a7-4ce4-a5ac-d1ea920307cc",
   "metadata": {},
   "outputs": [],
   "source": []
  },
  {
   "cell_type": "code",
   "execution_count": null,
   "id": "790c749e-f26d-4f85-a717-cd2bb994d715",
   "metadata": {},
   "outputs": [],
   "source": []
  },
  {
   "cell_type": "code",
   "execution_count": null,
   "id": "e9d1c965-eb66-4619-bba1-4ca5ef54b5da",
   "metadata": {},
   "outputs": [],
   "source": []
  },
  {
   "cell_type": "code",
   "execution_count": null,
   "id": "d818e21d-ecee-4764-8575-daf0d2baa405",
   "metadata": {},
   "outputs": [],
   "source": []
  },
  {
   "cell_type": "code",
   "execution_count": null,
   "id": "9168db2e-6bcc-4ca5-add1-a080c2562589",
   "metadata": {},
   "outputs": [],
   "source": []
  }
 ],
 "metadata": {
  "kernelspec": {
   "display_name": "Python 3 (ipykernel)",
   "language": "python",
   "name": "python3"
  },
  "language_info": {
   "codemirror_mode": {
    "name": "ipython",
    "version": 3
   },
   "file_extension": ".py",
   "mimetype": "text/x-python",
   "name": "python",
   "nbconvert_exporter": "python",
   "pygments_lexer": "ipython3",
   "version": "3.11.5"
  }
 },
 "nbformat": 4,
 "nbformat_minor": 5
}
